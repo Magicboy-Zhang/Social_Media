{
 "cells": [
  {
   "cell_type": "markdown",
   "metadata": {},
   "source": [
    "# 构建神经网络的基本流程 & 实现过程\n",
    "\n",
    "## 通用步骤：\n",
    "- 定义一个拥有可学习参数的神经网络\n",
    "- 遍历训练数据集\n",
    "- 处理输入数据使其流经神经网络\n",
    "- 计算损失值\n",
    "- 将网络参数的梯度进行反向传播\n",
    "- 以一定的规则更新网络权重"
   ]
  },
  {
   "cell_type": "code",
   "execution_count": 56,
   "metadata": {},
   "outputs": [
    {
     "name": "stdout",
     "output_type": "stream",
     "text": [
      "Net(\n",
      "  (conv1): Conv2d(1, 6, kernel_size=(3, 3), stride=(1, 1))\n",
      "  (conv2): Conv2d(6, 16, kernel_size=(3, 3), stride=(1, 1))\n",
      "  (fc1): Linear(in_features=576, out_features=120, bias=True)\n",
      "  (fc2): Linear(in_features=120, out_features=84, bias=True)\n",
      "  (fc3): Linear(in_features=84, out_features=10, bias=True)\n",
      ")\n"
     ]
    }
   ],
   "source": [
    "import torch\n",
    "import torch.nn as nn # 网络类\n",
    "import torch.nn.functional as F # 函数包\n",
    "\n",
    "# 定义一个简单的网络类\n",
    "class Net(nn.Module):\n",
    "\n",
    "    def __init__(self):\n",
    "        super(Net, self).__init__()\n",
    "        # 定义第一层卷积神经网络，输入通道维度 = 1， 输出通道维度 = 6， 卷积核大小3*3\n",
    "        self.conv1 = nn.Conv2d(1, 6, 3)\n",
    "        # 定义第二层卷积神经网络，输入通道维度 = 6， 输出通道维度 = 16， 卷积核大小3*3\n",
    "        self.conv2 = nn.Conv2d(6, 16, 3)\n",
    "        # 定义三层全连接网络\n",
    "        self.fc1 = nn.Linear(16 * 6 * 6, 120)\n",
    "        self.fc2 = nn.Linear(120, 84)\n",
    "        self.fc3 = nn.Linear(84, 10)\n",
    "\n",
    "    def forward(self, x):\n",
    "        # 在（2， 2）的池化窗口下执行最大池化操作\n",
    "        x = F.max_pool2d(F.relu(self.conv1(x)), (2, 2))\n",
    "        x = F.max_pool2d(F.relu(self.conv2(x)), 2)\n",
    "        x = x.view(-1, self.num_flat_feature(x))\n",
    "        x = F.relu(self.fc1(x))\n",
    "        x = F.relu(self.fc2(x))\n",
    "        x = self.fc3(x)\n",
    "\n",
    "        return x\n",
    "    \n",
    "    def num_flat_feature(self, x):\n",
    "        #计算size，除了第0个维度上的batch_size\n",
    "        size = x.size()[1:]\n",
    "        num_features = 1\n",
    "        for s in size:\n",
    "            num_features *= s\n",
    "\n",
    "        return num_features\n",
    "    \n",
    "net = Net()\n",
    "\n",
    "print(net)\n"
   ]
  },
  {
   "cell_type": "code",
   "execution_count": 57,
   "metadata": {},
   "outputs": [
    {
     "name": "stdout",
     "output_type": "stream",
     "text": [
      "10\n",
      "Parameter containing:\n",
      "tensor([[[[ 0.1310,  0.0218, -0.2810],\n",
      "          [-0.1165,  0.3243, -0.3321],\n",
      "          [-0.3293, -0.2957, -0.0076]]],\n",
      "\n",
      "\n",
      "        [[[ 0.2938,  0.3283, -0.1788],\n",
      "          [ 0.2150, -0.0640,  0.1818],\n",
      "          [ 0.1402,  0.0028,  0.2634]]],\n",
      "\n",
      "\n",
      "        [[[ 0.1786,  0.1135,  0.1287],\n",
      "          [ 0.1005,  0.3207, -0.0319],\n",
      "          [ 0.2394, -0.0185,  0.2673]]],\n",
      "\n",
      "\n",
      "        [[[ 0.1848, -0.1282,  0.2584],\n",
      "          [-0.1204,  0.2060, -0.3110],\n",
      "          [-0.1760,  0.1501,  0.3007]]],\n",
      "\n",
      "\n",
      "        [[[ 0.0768, -0.0212, -0.0919],\n",
      "          [-0.1376,  0.1893, -0.0542],\n",
      "          [ 0.0176, -0.0036, -0.2132]]],\n",
      "\n",
      "\n",
      "        [[[-0.0954,  0.0960, -0.2430],\n",
      "          [-0.1170,  0.2015,  0.1173],\n",
      "          [ 0.1192,  0.1346,  0.1111]]]], requires_grad=True)\n",
      "torch.Size([6, 1, 3, 3])\n"
     ]
    }
   ],
   "source": [
    "#所有用pytorch编写的模型都可以通过以下方式获得所有的参数\n",
    "params = list(net.parameters())\n",
    "\n",
    "print(len(params))\n",
    "print(params[0])\n",
    "print(params[0].size())"
   ]
  },
  {
   "cell_type": "code",
   "execution_count": 58,
   "metadata": {},
   "outputs": [
    {
     "name": "stdout",
     "output_type": "stream",
     "text": [
      "tensor([[-0.1123,  0.0256,  0.1281,  0.0875, -0.0965,  0.0398,  0.0189, -0.0705,\n",
      "         -0.0600,  0.1112]], grad_fn=<AddmmBackward0>)\n"
     ]
    }
   ],
   "source": [
    "# 假设图像输入尺寸为32 * 32\n",
    "input = torch.randn(1, 1, 32, 32)\n",
    "out = net(input)\n",
    "print(out)"
   ]
  },
  {
   "cell_type": "code",
   "execution_count": 59,
   "metadata": {},
   "outputs": [],
   "source": [
    "# 有了输出的张量之后，就可以执行梯度归零和反向传播的操作了\n",
    "net.zero_grad()\n",
    "out.backward(torch.randn(1, 10))"
   ]
  },
  {
   "cell_type": "markdown",
   "metadata": {},
   "source": [
    "# 损失函数\n",
    "\n",
    "## 输入是一个pair：（output, target），然后计算出一个数值来评估output和target之间的差距大小"
   ]
  },
  {
   "cell_type": "code",
   "execution_count": 60,
   "metadata": {},
   "outputs": [
    {
     "name": "stdout",
     "output_type": "stream",
     "text": [
      "tensor(0.6072, grad_fn=<MseLossBackward0>)\n"
     ]
    }
   ],
   "source": [
    "output = net(input)\n",
    "target = torch.randn(10)\n",
    "\n",
    "# 改变target的形状为二维张量，为了和output匹配\n",
    "target = target.view(1,-1)\n",
    "criterion = nn.MSELoss()\n",
    "\n",
    "loss = criterion(output, target)\n",
    "print(loss)"
   ]
  },
  {
   "cell_type": "markdown",
   "metadata": {},
   "source": [
    "## 以上神经网络完整的传播链条\n",
    "\n",
    "input  \n",
    "      -> conv2d -> relu -> maxpool2d -> conv2d -> relu -> maxpool2d  \n",
    "      -> view -> linear -> relu -> linear -> relu -> linear  \n",
    "      -> MSELoss  \n",
    "      -> loss  \n",
    "\n",
    "#### 当我们调用loss.backward()时，整张计算图将对loss进行自动求导，所有属性requires_grad = True的Tensor都将参与梯度求导的运算，并将梯度累加到Tensors中的.grad属性中"
   ]
  },
  {
   "cell_type": "code",
   "execution_count": 61,
   "metadata": {},
   "outputs": [
    {
     "name": "stdout",
     "output_type": "stream",
     "text": [
      "<MseLossBackward0 object at 0x000001BD92EBDD80>\n",
      "<AddmmBackward0 object at 0x000001BD928489A0>\n",
      "<AccumulateGrad object at 0x000001BD928489A0>\n"
     ]
    }
   ],
   "source": [
    "print(loss.grad_fn)\n",
    "print(loss.grad_fn.next_functions[0][0])\n",
    "print(loss.grad_fn.next_functions[0][0].next_functions[0][0])\n"
   ]
  },
  {
   "cell_type": "code",
   "execution_count": 62,
   "metadata": {},
   "outputs": [
    {
     "name": "stdout",
     "output_type": "stream",
     "text": [
      "conv1.bias.grad before backward\n",
      "None\n",
      "conv1.bias.grad after backward\n",
      "tensor([ 0.0026, -0.0123,  0.0346,  0.0280, -0.0240, -0.0034])\n"
     ]
    }
   ],
   "source": [
    "# 每个批次必须都要先清零梯度\n",
    "net.zero_grad()\n",
    "\n",
    "print('conv1.bias.grad before backward')\n",
    "print(net.conv1.bias.grad)\n",
    "\n",
    "loss.backward()\n",
    "\n",
    "print('conv1.bias.grad after backward')\n",
    "print(net.conv1.bias.grad)"
   ]
  },
  {
   "cell_type": "markdown",
   "metadata": {},
   "source": [
    "## 更新网络参数\n",
    "\n",
    "更新参数最简单的算法就是SGD  \n",
    "具体的公式： weight = weight - learning_rate * gradient"
   ]
  },
  {
   "cell_type": "code",
   "execution_count": 64,
   "metadata": {},
   "outputs": [],
   "source": [
    "# learning_rate = 0.01\n",
    "\n",
    "# # 传统python代码实现SGD\n",
    "# for f in net.parameters():\n",
    "#     f.data.sub_(f.grad.data * learning_rate)\n",
    "\n",
    "\n",
    "\n",
    "# pytorch官方推荐的标准代码\n",
    "\n",
    "# 首先导入优化器包，其中包含了若干的常用优化算法，例如SGD， Adam等\n",
    "import torch.optim as optim\n",
    "\n",
    "# 通过optim创建优化器对象\n",
    "optimizer = optim.SGD(net.parameters(), lr = 0.01)\n",
    "\n",
    "# 将优化器执行梯度清零操作\n",
    "# ***写死（清零）\n",
    "optimizer.zero_grad()\n",
    "\n",
    "output = net(input)\n",
    "loss = criterion(output, target)\n",
    "\n",
    "# 对损失值执行反向传播操作(只是把梯度都算出来了而已)\n",
    "# ***写死（计算）\n",
    "loss.backward()\n",
    "\n",
    "# 参数的更新通过一行标准代码来执行（才是在执行更新）\n",
    "# ***写死（更新）\n",
    "optimizer.step()"
   ]
  }
 ],
 "metadata": {
  "kernelspec": {
   "display_name": "Python 3",
   "language": "python",
   "name": "python3"
  },
  "language_info": {
   "codemirror_mode": {
    "name": "ipython",
    "version": 3
   },
   "file_extension": ".py",
   "mimetype": "text/x-python",
   "name": "python",
   "nbconvert_exporter": "python",
   "pygments_lexer": "ipython3",
   "version": "3.12.2"
  }
 },
 "nbformat": 4,
 "nbformat_minor": 2
}
