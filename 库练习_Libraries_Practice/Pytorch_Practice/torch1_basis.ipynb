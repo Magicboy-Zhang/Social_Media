{
 "cells": [
  {
   "cell_type": "code",
   "execution_count": 10,
   "metadata": {},
   "outputs": [],
   "source": [
    "import torch"
   ]
  },
  {
   "cell_type": "markdown",
   "metadata": {},
   "source": [
    "# 创建张量"
   ]
  },
  {
   "cell_type": "code",
   "execution_count": 11,
   "metadata": {},
   "outputs": [
    {
     "data": {
      "text/plain": [
       "tensor([[2.1631e+17, 1.6255e-42, 0.0000e+00],\n",
       "        [0.0000e+00, 0.0000e+00, 0.0000e+00],\n",
       "        [0.0000e+00, 0.0000e+00, 0.0000e+00],\n",
       "        [0.0000e+00, 0.0000e+00, 0.0000e+00],\n",
       "        [0.0000e+00, 0.0000e+00, 0.0000e+00]])"
      ]
     },
     "execution_count": 11,
     "metadata": {},
     "output_type": "execute_result"
    }
   ],
   "source": [
    "# 创建一个没有初始化的矩阵\n",
    "x = torch.empty(5, 3)\n",
    "\n",
    "x"
   ]
  },
  {
   "cell_type": "code",
   "execution_count": 12,
   "metadata": {},
   "outputs": [
    {
     "data": {
      "text/plain": [
       "tensor([[0.3410, 0.1254, 0.3084],\n",
       "        [0.2729, 0.2749, 0.5687],\n",
       "        [0.9317, 0.5851, 0.2401],\n",
       "        [0.6677, 0.3017, 0.0724],\n",
       "        [0.8105, 0.8764, 0.7224]])"
      ]
     },
     "execution_count": 12,
     "metadata": {},
     "output_type": "execute_result"
    }
   ],
   "source": [
    "# 创建一个有初始化的矩阵\n",
    "x = torch.rand(5, 3) # 高斯分布\n",
    "\n",
    "x"
   ]
  },
  {
   "cell_type": "code",
   "execution_count": 13,
   "metadata": {},
   "outputs": [
    {
     "data": {
      "text/plain": [
       "tensor([[0, 0, 0],\n",
       "        [0, 0, 0],\n",
       "        [0, 0, 0],\n",
       "        [0, 0, 0],\n",
       "        [0, 0, 0]])"
      ]
     },
     "execution_count": 13,
     "metadata": {},
     "output_type": "execute_result"
    }
   ],
   "source": [
    "# 创建一个0矩阵\n",
    "x = torch.zeros(5, 3, dtype = torch.long)\n",
    "\n",
    "x"
   ]
  },
  {
   "cell_type": "code",
   "execution_count": 14,
   "metadata": {},
   "outputs": [
    {
     "data": {
      "text/plain": [
       "tensor([2.5000, 3.5000])"
      ]
     },
     "execution_count": 14,
     "metadata": {},
     "output_type": "execute_result"
    }
   ],
   "source": [
    "# 直接通过数据创建张良\n",
    "x = torch.tensor([2.5, 3.5])\n",
    "\n",
    "x"
   ]
  },
  {
   "cell_type": "code",
   "execution_count": 15,
   "metadata": {},
   "outputs": [
    {
     "name": "stdout",
     "output_type": "stream",
     "text": [
      "x:  tensor([[1., 1., 1.],\n",
      "        [1., 1., 1.],\n",
      "        [1., 1., 1.],\n",
      "        [1., 1., 1.],\n",
      "        [1., 1., 1.]], dtype=torch.float64)\n",
      "\n",
      "y:  tensor([[ 0.8574, -1.3460, -0.3316],\n",
      "        [ 0.2419, -1.0279,  0.0985],\n",
      "        [ 0.5980,  0.0219,  0.4523],\n",
      "        [-1.6150,  0.6518, -0.9690],\n",
      "        [ 1.0488, -0.4439,  0.5455]])\n"
     ]
    }
   ],
   "source": [
    "# 通过已经有的张量，创建一个尺寸相同的新张量\n",
    "x = x.new_ones(5, 3, dtype = torch.double)\n",
    "\n",
    "print('x: ', x)\n",
    "\n",
    "# 得到相同尺寸的张良，并且使用随机初始化对其进行赋值\n",
    "y = torch.randn_like(x, dtype = torch.float)\n",
    "\n",
    "print('\\ny: ', y)"
   ]
  },
  {
   "cell_type": "code",
   "execution_count": 16,
   "metadata": {},
   "outputs": [
    {
     "name": "stdout",
     "output_type": "stream",
     "text": [
      "torch.Size([5, 3])\n"
     ]
    }
   ],
   "source": [
    "# 得到当前张良的一个尺寸\n",
    "print(x.size())"
   ]
  },
  {
   "cell_type": "code",
   "execution_count": 17,
   "metadata": {},
   "outputs": [
    {
     "name": "stdout",
     "output_type": "stream",
     "text": [
      "5 3\n"
     ]
    }
   ],
   "source": [
    "r, c = x.size()\n",
    "\n",
    "print(r, c)"
   ]
  },
  {
   "cell_type": "markdown",
   "metadata": {},
   "source": [
    "# 加法操作"
   ]
  },
  {
   "cell_type": "code",
   "execution_count": 18,
   "metadata": {},
   "outputs": [
    {
     "name": "stdout",
     "output_type": "stream",
     "text": [
      "tensor([[5, 5, 5],\n",
      "        [5, 5, 5]])\n"
     ]
    }
   ],
   "source": [
    "x = torch.tensor([[1, 0, 0],\n",
    "                  [4, 5, 0]])\n",
    "\n",
    "y = torch.tensor([[4, 5, 5],\n",
    "                  [1, 0, 5]])\n",
    "\n",
    "# 方法1\n",
    "print(x + y)"
   ]
  },
  {
   "cell_type": "code",
   "execution_count": 19,
   "metadata": {},
   "outputs": [
    {
     "name": "stdout",
     "output_type": "stream",
     "text": [
      "tensor([[5, 5, 5],\n",
      "        [5, 5, 5]])\n"
     ]
    }
   ],
   "source": [
    "# 方法2\n",
    "print(torch.add(x, y))"
   ]
  },
  {
   "cell_type": "code",
   "execution_count": 20,
   "metadata": {},
   "outputs": [
    {
     "name": "stdout",
     "output_type": "stream",
     "text": [
      "tensor([[5., 5., 5.],\n",
      "        [5., 5., 5.]])\n"
     ]
    }
   ],
   "source": [
    "# 方法3 - 指定运算结果存储位置\n",
    "result = torch.empty(2, 3)\n",
    "\n",
    "print(torch.add(x, y, out = result))"
   ]
  },
  {
   "cell_type": "code",
   "execution_count": 22,
   "metadata": {},
   "outputs": [
    {
     "name": "stdout",
     "output_type": "stream",
     "text": [
      "****************\n",
      "tensor([[ 6,  5,  5],\n",
      "        [ 9, 10,  5]])\n",
      "****************\n",
      "tensor([[ 6,  5,  5],\n",
      "        [ 9, 10,  5]])\n",
      "****************\n"
     ]
    }
   ],
   "source": [
    "# 方法4 - 原地置换 y = y + x (所有的in-place操作都有一个下划线后缀)\n",
    "# eg: x.copy_(y)\n",
    "\n",
    "print('****************')\n",
    "print(x + y)\n",
    "print('****************')\n",
    "y.add_(x)\n",
    "\n",
    "print(y)\n",
    "print('****************')"
   ]
  },
  {
   "cell_type": "code",
   "execution_count": null,
   "metadata": {},
   "outputs": [],
   "source": []
  }
 ],
 "metadata": {
  "kernelspec": {
   "display_name": "Python 3",
   "language": "python",
   "name": "python3"
  },
  "language_info": {
   "codemirror_mode": {
    "name": "ipython",
    "version": 3
   },
   "file_extension": ".py",
   "mimetype": "text/x-python",
   "name": "python",
   "nbconvert_exporter": "python",
   "pygments_lexer": "ipython3",
   "version": "3.12.2"
  }
 },
 "nbformat": 4,
 "nbformat_minor": 2
}
