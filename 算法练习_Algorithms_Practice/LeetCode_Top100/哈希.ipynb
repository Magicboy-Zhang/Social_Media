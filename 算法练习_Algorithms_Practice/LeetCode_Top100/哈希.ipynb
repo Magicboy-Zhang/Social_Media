{
 "cells": [
  {
   "cell_type": "markdown",
   "metadata": {},
   "source": [
    "# 两数之和"
   ]
  },
  {
   "cell_type": "code",
   "execution_count": 5,
   "metadata": {},
   "outputs": [],
   "source": [
    "'''\n",
    "逻辑：遍历每一个数，尝试找target与其做差得到的数字是否存在于列表中\n",
    "'''\n",
    "\n",
    "class Solution:\n",
    "    def twoSum(self, nums: list[int], target: int) -> list[int]:\n",
    "        idx1, idx2 = 0, 0\n",
    "        for i in range(len(nums)):\n",
    "            idx1 = i\n",
    "            try:\n",
    "                idx2 = nums.index(target - nums[i])\n",
    "                if idx1 == idx2:\n",
    "                    continue\n",
    "                break\n",
    "            except Exception:\n",
    "                continue\n",
    "\n",
    "        return [idx1, idx2]\n"
   ]
  },
  {
   "cell_type": "code",
   "execution_count": 6,
   "metadata": {},
   "outputs": [
    {
     "data": {
      "text/plain": [
       "[1, 2]"
      ]
     },
     "execution_count": 6,
     "metadata": {},
     "output_type": "execute_result"
    }
   ],
   "source": [
    "sol = Solution()\n",
    "\n",
    "sol.twoSum([3, 2, 4], 6)"
   ]
  },
  {
   "cell_type": "markdown",
   "metadata": {},
   "source": [
    "### 使用哈希表（快）"
   ]
  },
  {
   "cell_type": "code",
   "execution_count": 8,
   "metadata": {},
   "outputs": [
    {
     "data": {
      "text/plain": [
       "[2, 1]"
      ]
     },
     "execution_count": 8,
     "metadata": {},
     "output_type": "execute_result"
    }
   ],
   "source": [
    "'''\n",
    "逻辑：键值对为 数字 - 对应索引；若存target与当前数字之差在hash中，则直接返回两个索引，否则将新的键值对添加进哈希表\n",
    "'''\n",
    "\n",
    "class Solution:\n",
    "    def twoSum(self, nums: list[int], target: int) -> list[int]:\n",
    "        hash_map = {}\n",
    "        for i, num in enumerate(nums):\n",
    "            if target - num in hash_map:\n",
    "                return [i, hash_map[target - num]]\n",
    "            hash_map[num] = i\n",
    "\n",
    "sol = Solution()\n",
    "\n",
    "sol.twoSum([3, 2, 4], 6)"
   ]
  },
  {
   "cell_type": "markdown",
   "metadata": {},
   "source": [
    "# 字母异位分组"
   ]
  },
  {
   "cell_type": "code",
   "execution_count": 9,
   "metadata": {},
   "outputs": [
    {
     "data": {
      "text/plain": [
       "[['eat', 'tea', 'ate'], ['tan', 'nat'], ['bat']]"
      ]
     },
     "execution_count": 9,
     "metadata": {},
     "output_type": "execute_result"
    }
   ],
   "source": [
    "class Solution:\n",
    "    def groupAnagrams(self, strs: list[str]) -> list[list[str]]:\n",
    "        hash_map = {}\n",
    "        for s in strs:\n",
    "            sorted_s = ''.join(sorted(s))\n",
    "            if sorted_s in hash_map:\n",
    "                hash_map[sorted_s].append(s)\n",
    "            else:\n",
    "                hash_map[sorted_s] = [s]\n",
    "\n",
    "        return list(hash_map.values())\n",
    "    \n",
    "sol = Solution()\n",
    "\n",
    "sol.groupAnagrams([\"eat\",\"tea\",\"tan\",\"ate\",\"nat\",\"bat\"])"
   ]
  },
  {
   "cell_type": "markdown",
   "metadata": {},
   "source": [
    "# 并查集"
   ]
  },
  {
   "cell_type": "code",
   "execution_count": 10,
   "metadata": {},
   "outputs": [
    {
     "name": "stdout",
     "output_type": "stream",
     "text": [
      "(3, 3)\n",
      "(5, 5)\n",
      "(1, 1)\n",
      "(4, 4)\n",
      "(2, 2)\n"
     ]
    }
   ],
   "source": [
    "class UnionFind:\n",
    "    def __init__(self, nums):\n",
    "        self.parent = {num: num for num in nums}\n",
    "\n",
    "    def find(self, x):\n",
    "        while x != self.parent[x]:\n",
    "            x = self.parent[x]\n",
    "        return x\n",
    "    \n",
    "    def union(self, x, y):\n",
    "        # 查\n",
    "        root1, root2 = self.find(x), self.find(y)\n",
    "        # 并\n",
    "        # 根已经相同 就不需要合并了\n",
    "        if root1 == root2: return\n",
    "        # 根不同，则将一个根节点降级为子节点，连到另一个根结点上\n",
    "        self.parent[root2]=root1\n",
    "\n",
    "uf = UnionFind([3, 5, 1, 4, 2])\n",
    "\n",
    "for item in uf.parent.items():\n",
    "    print(item)"
   ]
  },
  {
   "cell_type": "code",
   "execution_count": 13,
   "metadata": {},
   "outputs": [
    {
     "name": "stdout",
     "output_type": "stream",
     "text": [
      "1\n",
      "2\n",
      "3\n",
      "4\n",
      "5\n"
     ]
    }
   ],
   "source": [
    "for i in range(1, 6):\n",
    "    print(uf.find(i))"
   ]
  },
  {
   "cell_type": "code",
   "execution_count": 15,
   "metadata": {},
   "outputs": [
    {
     "name": "stdout",
     "output_type": "stream",
     "text": [
      "(3, 3)\n",
      "(5, 5)\n",
      "(1, 1)\n",
      "(4, 4)\n",
      "(2, 1)\n",
      "==========\n",
      "1\n",
      "1\n"
     ]
    }
   ],
   "source": [
    "uf.union(1, 2) # 把2合并进1\n",
    "for item in uf.parent.items():\n",
    "    print(item)\n",
    " \n",
    "print('==========')\n",
    "print(uf.find(1))\n",
    "print(uf.find(2))"
   ]
  },
  {
   "cell_type": "code",
   "execution_count": 16,
   "metadata": {},
   "outputs": [
    {
     "name": "stdout",
     "output_type": "stream",
     "text": [
      "(3, 1)\n",
      "(5, 5)\n",
      "(1, 1)\n",
      "(4, 4)\n",
      "(2, 1)\n",
      "==========\n",
      "1\n",
      "1\n"
     ]
    }
   ],
   "source": [
    "uf.union(2, 3) # 把2合并进1\n",
    "for item in uf.parent.items():\n",
    "    print(item)\n",
    "\n",
    "print('==========')\n",
    "print(uf.find(2))\n",
    "print(uf.find(3))"
   ]
  },
  {
   "cell_type": "code",
   "execution_count": null,
   "metadata": {},
   "outputs": [],
   "source": [
    "class Solution:\n",
    "    def longestConsecutive(self, nums: List[int]) -> int:\n",
    "        if len(nums) == 0:\n",
    "            return 0\n",
    "\n",
    "        dsu = DSU(nums)\n",
    "        res = 1\n",
    "        for num in nums:\n",
    "            res = max(res, dsu.union(num, num + 1))\n",
    "\n",
    "        return res\n",
    "        \n",
    "\n",
    "class DSU:\n",
    "    def __init__(self, nums):\n",
    "        self.parent = {num: num for num in nums}\n",
    "        self.cnt = collections.defaultdict(lambda: 1)\n",
    "\n",
    "    def find(self, x):\n",
    "        while x != self.parent[x]:\n",
    "            x = self.parent[x]\n",
    "        return x\n",
    "\n",
    "    def union(self, x, y):\n",
    "        if y not in self.parent:\n",
    "            return 1\n",
    "\n",
    "        root1, root2 = self.find(x), self.find(y)\n",
    "\n",
    "        if root1 == root2:\n",
    "            return self.cnt[root1]\n",
    "        \n",
    "        self.parent[root2] = root1\n",
    "        self.cnt[root1] += self.cnt[root2]\n",
    "\n",
    "        return self.cnt[root1]\n"
   ]
  }
 ],
 "metadata": {
  "kernelspec": {
   "display_name": "Python 3",
   "language": "python",
   "name": "python3"
  },
  "language_info": {
   "codemirror_mode": {
    "name": "ipython",
    "version": 3
   },
   "file_extension": ".py",
   "mimetype": "text/x-python",
   "name": "python",
   "nbconvert_exporter": "python",
   "pygments_lexer": "ipython3",
   "version": "3.12.2"
  }
 },
 "nbformat": 4,
 "nbformat_minor": 2
}
