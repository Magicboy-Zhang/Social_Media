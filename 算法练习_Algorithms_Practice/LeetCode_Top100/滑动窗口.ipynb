{
 "cells": [
  {
   "cell_type": "markdown",
   "metadata": {},
   "source": [
    "# 无重复字符最长字串"
   ]
  },
  {
   "cell_type": "code",
   "execution_count": 2,
   "metadata": {},
   "outputs": [
    {
     "data": {
      "text/plain": [
       "3"
      ]
     },
     "execution_count": 2,
     "metadata": {},
     "output_type": "execute_result"
    }
   ],
   "source": [
    "class Solution:\n",
    "    def lengthOfLongestSubstring(self, s: str) -> int:\n",
    "        max_length = 0\n",
    "        current_longest_list = []\n",
    "\n",
    "        for i in range(len(s)):\n",
    "            if s[i] not in current_longest_list:\n",
    "                current_longest_list.append(s[i])\n",
    "                max_length = max(max_length, len(current_longest_list))\n",
    "            else:\n",
    "                current_longest_list.append(s[i])\n",
    "                \n",
    "                idx = current_longest_list.index(s[i])\n",
    "                current_longest_list = current_longest_list[idx + 1: ]\n",
    "\n",
    "        return max_length\n",
    "    \n",
    "sol = Solution()\n",
    "\n",
    "sol.lengthOfLongestSubstring('dvdf')"
   ]
  }
 ],
 "metadata": {
  "kernelspec": {
   "display_name": "Python 3",
   "language": "python",
   "name": "python3"
  },
  "language_info": {
   "codemirror_mode": {
    "name": "ipython",
    "version": 3
   },
   "file_extension": ".py",
   "mimetype": "text/x-python",
   "name": "python",
   "nbconvert_exporter": "python",
   "pygments_lexer": "ipython3",
   "version": "3.12.2"
  }
 },
 "nbformat": 4,
 "nbformat_minor": 2
}
