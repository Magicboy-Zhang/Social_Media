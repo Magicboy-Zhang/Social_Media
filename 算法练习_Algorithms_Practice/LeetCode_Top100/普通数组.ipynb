{
 "cells": [
  {
   "cell_type": "markdown",
   "metadata": {},
   "source": [
    "# 除自身以外数组的乘积"
   ]
  },
  {
   "cell_type": "code",
   "execution_count": 1,
   "metadata": {},
   "outputs": [
    {
     "data": {
      "text/plain": [
       "[24, 12, 8, 6]"
      ]
     },
     "execution_count": 1,
     "metadata": {},
     "output_type": "execute_result"
    }
   ],
   "source": [
    "class Solution:\n",
    "    def productExceptSelf(self, nums: list[int]) -> list[int]:\n",
    "        ans = [1] * len(nums)\n",
    "        tmp = 1\n",
    "\n",
    "        # 计算左边的积\n",
    "        for i in range(1, len(nums)):\n",
    "            ans[i] = ans[i - 1] * nums[i - 1]\n",
    "        # 累乘右边的乘积\n",
    "        for i in range(len(nums) - 2, -1, -1):\n",
    "            tmp *= nums[i + 1]\n",
    "            ans[i] *= tmp\n",
    "\n",
    "        return ans\n",
    "    \n",
    "sol = Solution()\n",
    "\n",
    "sol.productExceptSelf([1, 2, 3, 4])"
   ]
  }
 ],
 "metadata": {
  "kernelspec": {
   "display_name": "Python 3",
   "language": "python",
   "name": "python3"
  },
  "language_info": {
   "codemirror_mode": {
    "name": "ipython",
    "version": 3
   },
   "file_extension": ".py",
   "mimetype": "text/x-python",
   "name": "python",
   "nbconvert_exporter": "python",
   "pygments_lexer": "ipython3",
   "version": "3.12.2"
  }
 },
 "nbformat": 4,
 "nbformat_minor": 2
}
