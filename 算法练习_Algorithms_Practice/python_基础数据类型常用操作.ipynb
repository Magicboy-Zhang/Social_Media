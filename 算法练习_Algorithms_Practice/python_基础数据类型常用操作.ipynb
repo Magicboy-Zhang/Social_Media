{
 "cells": [
  {
   "cell_type": "markdown",
   "metadata": {},
   "source": [
    "### sorted函数用于对所有可迭代的对象进行排序操作，返回一个新的排序后的列表，而不改变原有的数据。这意味着你可以使用sorted()对列表、元组、字典以及其他可迭代对象进行排序，而原始数据结构保持不变。\n",
    "\n",
    "sorted(iterable, key=None, reverse=False)"
   ]
  },
  {
   "cell_type": "code",
   "execution_count": 5,
   "metadata": {},
   "outputs": [
    {
     "name": "stdout",
     "output_type": "stream",
     "text": [
      "['a', 'b', 'c']\n"
     ]
    }
   ],
   "source": [
    "s = 'acb'\n",
    "\n",
    "s1 = sorted(s)\n",
    "\n",
    "print(s1)"
   ]
  },
  {
   "cell_type": "markdown",
   "metadata": {},
   "source": [
    "# *********************** 数字 ***********************"
   ]
  },
  {
   "cell_type": "markdown",
   "metadata": {},
   "source": [
    "### / : 除法，返回浮点数结果"
   ]
  },
  {
   "cell_type": "code",
   "execution_count": 6,
   "metadata": {},
   "outputs": [
    {
     "name": "stdout",
     "output_type": "stream",
     "text": [
      "3.6666666666666665\n"
     ]
    }
   ],
   "source": [
    "print(11 / 3)"
   ]
  },
  {
   "cell_type": "markdown",
   "metadata": {},
   "source": [
    "### // ： 整除，返回向下取整结果"
   ]
  },
  {
   "cell_type": "code",
   "execution_count": 7,
   "metadata": {},
   "outputs": [
    {
     "name": "stdout",
     "output_type": "stream",
     "text": [
      "3\n"
     ]
    }
   ],
   "source": [
    "print(11 // 3)"
   ]
  },
  {
   "cell_type": "markdown",
   "metadata": {},
   "source": [
    "### % ： 取余，返回整数余数"
   ]
  },
  {
   "cell_type": "code",
   "execution_count": 8,
   "metadata": {},
   "outputs": [
    {
     "name": "stdout",
     "output_type": "stream",
     "text": [
      "2\n"
     ]
    }
   ],
   "source": [
    "print(11 % 3)"
   ]
  },
  {
   "cell_type": "markdown",
   "metadata": {},
   "source": [
    "### round : 四舍五入"
   ]
  },
  {
   "cell_type": "code",
   "execution_count": 9,
   "metadata": {},
   "outputs": [
    {
     "name": "stdout",
     "output_type": "stream",
     "text": [
      "4\n",
      "3\n"
     ]
    }
   ],
   "source": [
    "print(round(3.5))\n",
    "print(round(3.49))"
   ]
  },
  {
   "cell_type": "markdown",
   "metadata": {},
   "source": [
    "### abs : 取绝对值"
   ]
  },
  {
   "cell_type": "code",
   "execution_count": 10,
   "metadata": {},
   "outputs": [
    {
     "name": "stdout",
     "output_type": "stream",
     "text": [
      "1\n"
     ]
    }
   ],
   "source": [
    "print(abs(-1))"
   ]
  },
  {
   "cell_type": "markdown",
   "metadata": {},
   "source": [
    "# *********************** 字符串 ***********************"
   ]
  },
  {
   "cell_type": "code",
   "execution_count": 11,
   "metadata": {},
   "outputs": [],
   "source": [
    "s = 'Hello World!'"
   ]
  },
  {
   "cell_type": "markdown",
   "metadata": {},
   "source": [
    "### 切片（左闭右开） 头：尾：步长"
   ]
  },
  {
   "cell_type": "code",
   "execution_count": 12,
   "metadata": {},
   "outputs": [
    {
     "name": "stdout",
     "output_type": "stream",
     "text": [
      "ell\n"
     ]
    }
   ],
   "source": [
    "print(s[1: 4: 1])"
   ]
  },
  {
   "cell_type": "code",
   "execution_count": 13,
   "metadata": {},
   "outputs": [
    {
     "name": "stdout",
     "output_type": "stream",
     "text": [
      "!dlroW olleH\n"
     ]
    }
   ],
   "source": [
    "print(s[len(s) - 1: : -1])"
   ]
  },
  {
   "cell_type": "markdown",
   "metadata": {},
   "source": [
    "### .upper() / .lower() 字符串全体大小写（创建副本）"
   ]
  },
  {
   "cell_type": "code",
   "execution_count": 14,
   "metadata": {},
   "outputs": [
    {
     "name": "stdout",
     "output_type": "stream",
     "text": [
      "HELLO WORLD!\n",
      "hello world!\n",
      "Hello World!\n"
     ]
    }
   ],
   "source": [
    "print(s.upper())\n",
    "print(s.lower())\n",
    "\n",
    "print(s)"
   ]
  },
  {
   "cell_type": "markdown",
   "metadata": {},
   "source": [
    "### .find(sub, start, end) 寻找子字符串sub的第一次出现，并返回其最低索引，否则返回-1 （大小写敏感）\n",
    "\n",
    "sub：子字符串  \n",
    "start：起始索引，默认0  \n",
    "end：结束索引，默认到末尾，搜索停止于end - 1"
   ]
  },
  {
   "cell_type": "code",
   "execution_count": 15,
   "metadata": {},
   "outputs": [
    {
     "name": "stdout",
     "output_type": "stream",
     "text": [
      "6\n"
     ]
    }
   ],
   "source": [
    "idx = s.find('Wo')\n",
    "print(idx)"
   ]
  },
  {
   "cell_type": "code",
   "execution_count": 16,
   "metadata": {},
   "outputs": [
    {
     "name": "stdout",
     "output_type": "stream",
     "text": [
      "-1\n"
     ]
    }
   ],
   "source": [
    "idx = s.find('wo')\n",
    "print(idx)"
   ]
  },
  {
   "cell_type": "markdown",
   "metadata": {},
   "source": [
    "### .strip([chars]): 返回去除字符串两侧指定字符集的字符串副本。如果未指定chars，则默认去除空白符 （创建副本） \n",
    "\n",
    "删除会删除两边所有包含的字符，无关顺序"
   ]
  },
  {
   "cell_type": "code",
   "execution_count": 17,
   "metadata": {},
   "outputs": [
    {
     "name": "stdout",
     "output_type": "stream",
     "text": [
      "原本的字符串是：'aaaaCakea '\n",
      "\n",
      "\n",
      "默认设置删除两边空格：'aaaaCakea'\n",
      "\n",
      "\n",
      "删除两边所有的a：'Cakea '\n",
      "\n",
      "\n",
      "删除两边所有的a和空格：'Cake'\n",
      "\n",
      "\n",
      "原本的字符串保持不变：'aaaaCakea '\n",
      "\n",
      "\n"
     ]
    }
   ],
   "source": [
    "s = 'aaaaCakea '\n",
    "\n",
    "print('原本的字符串是：\\'' + s + '\\'')\n",
    "print('\\n')\n",
    "\n",
    "print('默认设置删除两边空格：\\'' + s.strip() + '\\'')\n",
    "print('\\n')\n",
    "\n",
    "print('删除两边所有的a：\\''  + s.strip('a') + '\\'')\n",
    "print('\\n')\n",
    "\n",
    "print('删除两边所有的a和空格：\\''  + s.strip('a ') + '\\'')\n",
    "print('\\n')\n",
    "\n",
    "print('原本的字符串保持不变：\\'' + s + '\\'')\n",
    "print('\\n')"
   ]
  },
  {
   "cell_type": "markdown",
   "metadata": {},
   "source": [
    "### .replace(old, new, count): 返回字符串的副本，其中所有出现的子串old都被替换为new。如果指定了count，则只替换前count个出现 （创建副本）"
   ]
  },
  {
   "cell_type": "code",
   "execution_count": 18,
   "metadata": {},
   "outputs": [
    {
     "name": "stdout",
     "output_type": "stream",
     "text": [
      "原本的字符串是：'aaaaCakea '\n",
      "\n",
      "\n",
      "替换前3个a：'###aCakea '\n",
      "\n",
      "\n",
      "原本的字符串保持不变：'aaaaCakea '\n",
      "\n",
      "\n"
     ]
    }
   ],
   "source": [
    "s = 'aaaaCakea '\n",
    "\n",
    "print('原本的字符串是：\\'' + s + '\\'')\n",
    "print('\\n')\n",
    "\n",
    "print('替换前3个a：\\'' + s.replace('a', '#', 3) + '\\'')\n",
    "print('\\n')\n",
    "\n",
    "print('原本的字符串保持不变：\\'' + s + '\\'')\n",
    "print('\\n')"
   ]
  },
  {
   "cell_type": "markdown",
   "metadata": {},
   "source": [
    "### .split(sep=None, maxsplit = -1): 使用指定的分隔符sep分割字符串，返回一个列表。如果未指定sep，则默认使用任意形式的空白符（空格、换行符等）作为分隔符 （创建副本）\n",
    "\n",
    "maxsplit用来指定最大分割次数"
   ]
  },
  {
   "cell_type": "code",
   "execution_count": 19,
   "metadata": {},
   "outputs": [
    {
     "name": "stdout",
     "output_type": "stream",
     "text": [
      "原本的字符串是：'a,b,4,5,f'\n",
      "\n",
      "\n",
      "用逗号最大分割两次： ['a', 'b', '4,5,f']\n",
      "\n",
      "\n",
      "原本的字符串保持不变：'a,b,4,5,f'\n",
      "\n",
      "\n"
     ]
    }
   ],
   "source": [
    "s = 'a,b,4,5,f'\n",
    "\n",
    "print('原本的字符串是：\\'' + s + '\\'')\n",
    "print('\\n')\n",
    "\n",
    "print('用逗号最大分割两次：', s.split(',', 2))\n",
    "print('\\n')\n",
    "\n",
    "print('原本的字符串保持不变：\\'' + s + '\\'')\n",
    "print('\\n')"
   ]
  },
  {
   "cell_type": "markdown",
   "metadata": {},
   "source": [
    "### .join(iterable): 将iterable中的字符串连接成一个字符串，使用调用join的字符串作为分隔符 （创建副本）"
   ]
  },
  {
   "cell_type": "code",
   "execution_count": 20,
   "metadata": {},
   "outputs": [
    {
     "name": "stdout",
     "output_type": "stream",
     "text": [
      "原本的列表是： ['1245', 'hell', '98']\n",
      "\n",
      "\n",
      "使用逗号连接字符串：'1245, hell, 98'\n",
      "\n",
      "\n",
      "原本的列表保持不变： ['1245', 'hell', '98']\n",
      "\n",
      "\n"
     ]
    }
   ],
   "source": [
    "l = ['1245', 'hell', '98']\n",
    "\n",
    "print('原本的列表是：', l)\n",
    "print('\\n')\n",
    "\n",
    "print('使用逗号连接字符串：\\'' + ', '.join(l) + '\\'')\n",
    "print('\\n')\n",
    "\n",
    "print('原本的列表保持不变：', l)\n",
    "print('\\n')"
   ]
  },
  {
   "cell_type": "markdown",
   "metadata": {},
   "source": [
    "# *********************** 列表 ***********************"
   ]
  },
  {
   "cell_type": "markdown",
   "metadata": {},
   "source": [
    "### list.extend(iterable): 将一个可迭代对象的所有元素添加到列表的末尾"
   ]
  },
  {
   "cell_type": "code",
   "execution_count": 21,
   "metadata": {},
   "outputs": [
    {
     "name": "stdout",
     "output_type": "stream",
     "text": [
      "[1, 2, 3, 'a', 'b', 'c', '1', 't', '2', '2', 'y', '3', 'y']\n"
     ]
    }
   ],
   "source": [
    "l1 = [1, 2, 3]\n",
    "\n",
    "l2 = ['a', 'b', 'c']\n",
    "\n",
    "s1 = '1t22y3y'\n",
    "\n",
    "l1.extend(l2)\n",
    "l1.extend(s1)\n",
    "\n",
    "print(l1)"
   ]
  },
  {
   "cell_type": "markdown",
   "metadata": {},
   "source": [
    "### list.insert(i, x): 在指定位置插入一个元素。第一个参数是准备插入到其前面的那个元素的索引，例如list.insert(0, x)会插入到列表的最前面。"
   ]
  },
  {
   "cell_type": "code",
   "execution_count": 22,
   "metadata": {},
   "outputs": [
    {
     "name": "stdout",
     "output_type": "stream",
     "text": [
      "['a', '2', 'b', 'c', 'd']\n"
     ]
    }
   ],
   "source": [
    "l = ['a', 'b', 'c', 'd']\n",
    "\n",
    "l.insert(1, '2')\n",
    "\n",
    "print(l)"
   ]
  },
  {
   "cell_type": "markdown",
   "metadata": {},
   "source": [
    "### list.remove(x): 移除列表中第一个值为x的元素。如果没有这样的元素，就会报错。"
   ]
  },
  {
   "cell_type": "code",
   "execution_count": 23,
   "metadata": {},
   "outputs": [
    {
     "name": "stdout",
     "output_type": "stream",
     "text": [
      "['a', 'c', 'b']\n"
     ]
    }
   ],
   "source": [
    "l = ['a', 'b', 'c', 'b']\n",
    "\n",
    "l.remove('b')\n",
    "\n",
    "print(l)"
   ]
  },
  {
   "cell_type": "markdown",
   "metadata": {},
   "source": [
    "### list.pop([i]): 删除列表中指定位置的元素（默认是最后一个），并返回这个元素的值。"
   ]
  },
  {
   "cell_type": "code",
   "execution_count": 24,
   "metadata": {},
   "outputs": [
    {
     "name": "stdout",
     "output_type": "stream",
     "text": [
      "['b', 'c', 'b']\n",
      "a\n"
     ]
    }
   ],
   "source": [
    "l = ['a', 'b', 'c', 'b']\n",
    "\n",
    "c = l.pop(0)\n",
    "\n",
    "print(l)\n",
    "print(c)"
   ]
  },
  {
   "cell_type": "markdown",
   "metadata": {},
   "source": [
    "### list.index(x, start, end): 返回列表中第一个值为x的元素的索引。可以使用start和end参数限制搜索范围。"
   ]
  },
  {
   "cell_type": "code",
   "execution_count": 25,
   "metadata": {},
   "outputs": [
    {
     "name": "stdout",
     "output_type": "stream",
     "text": [
      "3\n"
     ]
    }
   ],
   "source": [
    "l = ['a', 'b', 'c', 'b']\n",
    "\n",
    "idx = l.index('b', 2)\n",
    "\n",
    "print(idx)"
   ]
  },
  {
   "cell_type": "markdown",
   "metadata": {},
   "source": [
    "### list.count(x): 返回x在列表中出现的次数。"
   ]
  },
  {
   "cell_type": "code",
   "execution_count": 26,
   "metadata": {},
   "outputs": [
    {
     "name": "stdout",
     "output_type": "stream",
     "text": [
      "2\n"
     ]
    }
   ],
   "source": [
    "l = ['a', 'b', 'c', 'b']\n",
    "\n",
    "num = l.count('b')\n",
    "\n",
    "print(num)"
   ]
  },
  {
   "cell_type": "markdown",
   "metadata": {},
   "source": [
    "### list.sort(key=None, reverse=False): 对列表中的元素进行排序（参数可用于自定义排序，例如通过函数指定排序键或反向排序）。"
   ]
  },
  {
   "cell_type": "code",
   "execution_count": 27,
   "metadata": {},
   "outputs": [
    {
     "name": "stdout",
     "output_type": "stream",
     "text": [
      "[9, 5, 3, 1]\n",
      "[1, 3, 5, 9]\n"
     ]
    }
   ],
   "source": [
    "l = [5, 9, 3, 1]\n",
    "\n",
    "l.sort(reverse = True)\n",
    "\n",
    "print(l)\n",
    "\n",
    "l.sort()\n",
    "\n",
    "print(l)"
   ]
  },
  {
   "cell_type": "markdown",
   "metadata": {},
   "source": [
    "### list.reverse(): 将列表中的元素反向存放。"
   ]
  },
  {
   "cell_type": "code",
   "execution_count": 28,
   "metadata": {},
   "outputs": [
    {
     "name": "stdout",
     "output_type": "stream",
     "text": [
      "[1, 3, 9, 5]\n"
     ]
    }
   ],
   "source": [
    "l = [5, 9, 3, 1]\n",
    "\n",
    "l.reverse()\n",
    "\n",
    "print(l)"
   ]
  },
  {
   "cell_type": "markdown",
   "metadata": {},
   "source": [
    "### list.copy(): 返回列表的浅复制，等同于list[:]。"
   ]
  },
  {
   "cell_type": "code",
   "execution_count": 29,
   "metadata": {},
   "outputs": [
    {
     "name": "stdout",
     "output_type": "stream",
     "text": [
      "l1: [1, 2]\n",
      "l2: [1, 2, '1']\n"
     ]
    }
   ],
   "source": [
    "l = [1, 2]\n",
    "\n",
    "l1 = l.copy()\n",
    "l2 = l\n",
    "\n",
    "l.append('1')\n",
    "\n",
    "print('l1:', l1)\n",
    "print('l2:', l2)"
   ]
  },
  {
   "cell_type": "markdown",
   "metadata": {},
   "source": [
    "# *********************** 字典 ***********************"
   ]
  },
  {
   "cell_type": "code",
   "execution_count": 30,
   "metadata": {},
   "outputs": [],
   "source": [
    "d = {\n",
    "    'name': ['Bob', 'Alice'],\n",
    "    'age': [17, 21],\n",
    "    'GPA': [3.1, 2.9]\n",
    "}"
   ]
  },
  {
   "cell_type": "markdown",
   "metadata": {},
   "source": [
    "### dict.items()：以列表返回可遍历的(键, 值) 元组数组。"
   ]
  },
  {
   "cell_type": "code",
   "execution_count": 31,
   "metadata": {},
   "outputs": [
    {
     "name": "stdout",
     "output_type": "stream",
     "text": [
      "('name', ['Bob', 'Alice'])\n",
      "('age', [17, 21])\n",
      "('GPA', [3.1, 2.9])\n"
     ]
    }
   ],
   "source": [
    "for pair in d.items():\n",
    "    print(pair)"
   ]
  },
  {
   "cell_type": "markdown",
   "metadata": {},
   "source": [
    "### dict.keys()：返回一个可迭代对象，可以使用list()来转换为列表，列表为字典中的所有键。"
   ]
  },
  {
   "cell_type": "code",
   "execution_count": 32,
   "metadata": {},
   "outputs": [
    {
     "name": "stdout",
     "output_type": "stream",
     "text": [
      "name\n",
      "age\n",
      "GPA\n"
     ]
    }
   ],
   "source": [
    "for k in d.keys():\n",
    "    print(k)"
   ]
  },
  {
   "cell_type": "markdown",
   "metadata": {},
   "source": [
    "### dict.values()：返回一个可迭代对象，可以使用list()来转换为列表，列表为字典中的所有值。"
   ]
  },
  {
   "cell_type": "code",
   "execution_count": 33,
   "metadata": {},
   "outputs": [
    {
     "name": "stdout",
     "output_type": "stream",
     "text": [
      "['Bob', 'Alice']\n",
      "[17, 21]\n",
      "[3.1, 2.9]\n"
     ]
    }
   ],
   "source": [
    "for v in d.values():\n",
    "    print(v)"
   ]
  }
 ],
 "metadata": {
  "kernelspec": {
   "display_name": "Python 3",
   "language": "python",
   "name": "python3"
  },
  "language_info": {
   "codemirror_mode": {
    "name": "ipython",
    "version": 3
   },
   "file_extension": ".py",
   "mimetype": "text/x-python",
   "name": "python",
   "nbconvert_exporter": "python",
   "pygments_lexer": "ipython3",
   "version": "3.12.2"
  }
 },
 "nbformat": 4,
 "nbformat_minor": 2
}
