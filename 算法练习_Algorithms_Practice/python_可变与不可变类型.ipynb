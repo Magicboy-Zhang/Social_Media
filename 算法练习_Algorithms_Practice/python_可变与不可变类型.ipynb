{
 "cells": [
  {
   "cell_type": "markdown",
   "metadata": {},
   "source": [
    "#### 在Python中，数据类型可以分为可变类型和不可变类型，这一区别主要基于对象的内容是否可以在对象创建后被改变。\n",
    "\n",
    "#### 不可变类型\n",
    "不可变类型的对象一旦创建，其内容就不能被修改。尝试修改不可变对象的内容会导致类型错误。不可变类型包括：\n",
    "\n",
    "- 整型（int）\n",
    "- 浮点型（float）\n",
    "- 复数型（complex）\n",
    "- 布尔型（bool）\n",
    "- 字符串（str）\n",
    "- 元组（tuple）\n",
    "- 不可变类型的特点是安全性和简单性。因为它们不能被改变，所以它们在多线程环境中使用时更加安全，且它们的行为更加可预测。\n",
    "\n",
    "#### 可变类型\n",
    "可变类型的对象创建后，其内容可以被修改。可变类型包括：\n",
    "\n",
    "- 列表（list）\n",
    "- 字典（dict）\n",
    "- 集合（set）\n",
    "- 可变类型提供了更大的灵活性，因为你可以在不改变对象身份（即对象的内存地址）的情况下修改对象的内容。这意味着，如果一个可变对象被作为参数传递给函数时，- 函数内部对该对象的任何修改都会反映在原始对象上。\n",
    "\n",
    "#### 不同之处\n",
    "- 修改性： 不可变类型的内容不能修改，而可变类型的内容可以修改。\n",
    "- 安全性： 不可变对象更加线程安全，适合作为多线程环境下的共享数据。\n",
    "- 性能影响： 在某些情况下，不可变对象可以提升程序的运行效率。例如，由于字符串不可变，Python解释器可以自由地进行内存中的字符串共享，而无需担心后续的修改会影响共享的字符串。\n",
    "- 用途差异： 不可变类型通常用于代表简单的值或常量数据，而可变类型则用于存储可以动态变化的数据集合。"
   ]
  },
  {
   "cell_type": "code",
   "execution_count": 4,
   "metadata": {},
   "outputs": [
    {
     "name": "stdout",
     "output_type": "stream",
     "text": [
      "[1, 2, 'Z', 4, 5, 6]\n"
     ]
    }
   ],
   "source": [
    "def index_2_to_Z(array):\n",
    "\n",
    "    array[2] = 'Z'\n",
    "\n",
    "    return\n",
    "\n",
    "# 列表\n",
    "l = [1, 2, 3, 4, 5, 6]\n",
    "\n",
    "# 字符串\n",
    "s = 'Hello'\n",
    "\n",
    "index_2_to_Z(l)\n",
    "\n",
    "print(l)"
   ]
  },
  {
   "cell_type": "code",
   "execution_count": 5,
   "metadata": {},
   "outputs": [
    {
     "name": "stdout",
     "output_type": "stream",
     "text": [
      "Before change l1, l2:  [1, 2, 3]\n",
      "After change l1, l2:  ['Z', 2, 3]\n"
     ]
    }
   ],
   "source": [
    "l1 = [1, 2, 3]\n",
    "l2 = l1\n",
    "\n",
    "print('Before change l1, l2: ', l2)\n",
    "\n",
    "l1[0] = 'Z'\n",
    "\n",
    "print('After change l1, l2: ', l2)"
   ]
  },
  {
   "cell_type": "code",
   "execution_count": 2,
   "metadata": {},
   "outputs": [
    {
     "name": "stdout",
     "output_type": "stream",
     "text": [
      "Before change l1, l1:  hello\n",
      "Before change l1, l2:  hello\n",
      "\n",
      "\n",
      "After change l1, l1:  helloZ\n",
      "After change l1, l2:  hello\n"
     ]
    }
   ],
   "source": [
    "l1 = 'hello'\n",
    "l2 = l1\n",
    "\n",
    "print('Before change l1, l1: ', l1)\n",
    "print('Before change l1, l2: ', l2)\n",
    "print('\\n')\n",
    "\n",
    "l1 += 'Z'\n",
    "\n",
    "print('After change l1, l1: ', l1)\n",
    "print('After change l1, l2: ', l2)"
   ]
  }
 ],
 "metadata": {
  "kernelspec": {
   "display_name": "Python 3",
   "language": "python",
   "name": "python3"
  },
  "language_info": {
   "codemirror_mode": {
    "name": "ipython",
    "version": 3
   },
   "file_extension": ".py",
   "mimetype": "text/x-python",
   "name": "python",
   "nbconvert_exporter": "python",
   "pygments_lexer": "ipython3",
   "version": "3.12.2"
  }
 },
 "nbformat": 4,
 "nbformat_minor": 2
}
